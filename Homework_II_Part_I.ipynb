{
 "cells": [
  {
   "cell_type": "code",
   "execution_count": 1,
   "id": "c9e3a924",
   "metadata": {},
   "outputs": [],
   "source": [
    "# note Grakel does not seem to support Python >=3.10, Python 3.9 works fine\n",
    "# you are free to remove imports that are not useful for you\n",
    "\n",
    "#import sys\n",
    "#!{sys.executable} -m pip install grakel\n",
    "#!{sys.executable} -m pip install matplotlib\n",
    "from grakel.datasets import fetch_dataset\n",
    "from grakel.kernels import WeisfeilerLehman, VertexHistogram\n",
    "from sklearn.model_selection import train_test_split,cross_val_score\n",
    "from sklearn.svm import SVC\n",
    "from sklearn.metrics import accuracy_score\n",
    "from sklearn.decomposition import KernelPCA # to check your own implementation\n",
    "from sklearn.manifold import TSNE\n",
    "from matplotlib import pyplot as plot\n",
    "import numpy as np\n",
    "import scipy\n",
    "import matplotlib.pyplot as plt\n",
    "import math"
   ]
  },
  {
   "cell_type": "code",
   "execution_count": 2,
   "id": "195a11e7",
   "metadata": {},
   "outputs": [
    {
     "name": "stdout",
     "output_type": "stream",
     "text": [
      "[[507 210 206 ... 189 473 289]\n",
      " [210 263 145 ... 126 260 181]\n",
      " [206 145 263 ... 129 256 186]\n",
      " ...\n",
      " [189 126 129 ... 228 231 179]\n",
      " [473 260 256 ... 231 859 361]\n",
      " [289 181 186 ... 179 361 396]]\n",
      "175\n"
     ]
    },
    {
     "data": {
      "text/plain": [
       "'K_test = wl_kernel.transform(G)\\n\\nclf = SVC(kernel=\\'precomputed\\')\\nclf.fit(K_train, y_train)\\nSVC(C=1.0, break_ties=False, cache_size=200, class_weight=None, coef0=0.0,\\n    decision_function_shape=\\'ovr\\', degree=3, gamma=\\'scale\\',\\n    kernel=\\'precomputed\\', max_iter=-1, probability=False, random_state=None,\\n    shrinking=True, tol=0.001, verbose=False)\\n\\ny_pred = clf.predict(K_test)\\nprint(\"%2.2f %%\" %(round(accuracy_score(y_test, y_pred)*100)))'"
      ]
     },
     "execution_count": 2,
     "metadata": {},
     "output_type": "execute_result"
    }
   ],
   "source": [
    "# Some datasets, more datasets here https://ls11-www.cs.tu-dortmund.de/staff/morris/graphkerneldatasets\n",
    "\"\"\"\n",
    "    The MUTAG dataset consists of 188 chemical compounds divided into two \n",
    "    classes according to their mutagenic effect on a bacterium. \n",
    "\n",
    "    The chemical data was obtained form http://cdb.ics.uci.edu and converted \n",
    "    to graphs, where vertices represent atoms and edges represent chemical \n",
    "    bonds. Explicit hydrogen atoms have been removed and vertices are labeled\n",
    "    by atom type and edges by bond type (single, double, triple or aromatic).\n",
    "    Chemical data was processed using the Chemistry Development Kit (v1.4).\n",
    "\"\"\"\n",
    "\n",
    "\"\"\"\n",
    "    ENZYMES is a dataset of protein tertiary structures obtained from (Borgwardt et al., 2005) \n",
    "    consisting of 600 enzymes from the BRENDA enzyme database (Schomburg et al., 2004). \n",
    "    In this case the task is to correctly assign each enzyme to one of the 6 EC top-level \n",
    "    classes. \n",
    "\"\"\"\n",
    "\n",
    "\"\"\"\n",
    "    NCI1 and NCI109 represent two balanced subsets of datasets of chemical compounds screened \n",
    "    for activity against non-small cell lung cancer and ovarian cancer cell lines respectively\n",
    "    (Wale and Karypis (2006) and http://pubchem.ncbi.nlm.nih.gov).\n",
    "\"\"\"\n",
    "\n",
    "dataset = fetch_dataset(\"MUTAG\",verbose=False) # just replace by the name of the datasets you want \"ENZYMES\", \"NCI1\"\n",
    "G = dataset.data\n",
    "y = dataset.target\n",
    "\n",
    "\n",
    "wl_kernel = WeisfeilerLehman(n_iter=10, base_graph_kernel=VertexHistogram)\n",
    "#G_train, G_test, y_train, y_test = train_test_split(G, y, test_size=0.1, random_state=42)\n",
    "#print(len(G_train))\n",
    "#print(len(G_test))\n",
    "\n",
    "K_train = wl_kernel.fit_transform(G)\n",
    "print(K_train)\n",
    "\n",
    "print(\"\"+ str(np.linalg.matrix_rank(K_train)))\n",
    "\n",
    "'''K_test = wl_kernel.transform(G)\n",
    "\n",
    "clf = SVC(kernel='precomputed')\n",
    "clf.fit(K_train, y_train)\n",
    "SVC(C=1.0, break_ties=False, cache_size=200, class_weight=None, coef0=0.0,\n",
    "    decision_function_shape='ovr', degree=3, gamma='scale',\n",
    "    kernel='precomputed', max_iter=-1, probability=False, random_state=None,\n",
    "    shrinking=True, tol=0.001, verbose=False)\n",
    "\n",
    "y_pred = clf.predict(K_test)\n",
    "print(\"%2.2f %%\" %(round(accuracy_score(y_test, y_pred)*100)))'''"
   ]
  },
  {
   "cell_type": "code",
   "execution_count": 3,
   "id": "72edb19d",
   "metadata": {},
   "outputs": [
    {
     "data": {
      "text/plain": [
       "array([[ 1.60679238e+02, -1.49431021e+01, -1.93207617e+01, ...,\n",
       "        -1.53579957e+01,  4.96898766e+01,  2.21791535e-01],\n",
       "       [-1.49431021e+01,  1.59434557e+02,  4.10568979e+01, ...,\n",
       "         4.30196639e+01, -4.19324638e+01,  1.35994511e+01],\n",
       "       [-1.93207617e+01,  4.10568979e+01,  1.58679238e+02, ...,\n",
       "         4.56420043e+01, -4.63101234e+01,  1.82217915e+01],\n",
       "       ...,\n",
       "       [-1.53579957e+01,  4.30196639e+01,  4.56420043e+01, ...,\n",
       "         1.65604770e+02, -5.03473574e+01,  3.21845575e+01],\n",
       "       [ 4.96898766e+01, -4.19324638e+01, -4.63101234e+01, ...,\n",
       "        -5.03473574e+01,  3.58700515e+02, -4.76757017e+00],\n",
       "       [ 2.21791535e-01,  1.35994511e+01,  1.82217915e+01, ...,\n",
       "         3.21845575e+01, -4.76757017e+00,  1.64764345e+02]])"
      ]
     },
     "execution_count": 3,
     "metadata": {},
     "output_type": "execute_result"
    }
   ],
   "source": [
    "def center_K(K):\n",
    "    len_K = len(K)\n",
    "    N1 = np.full((len_K, len_K), 1/len_K)\n",
    "\n",
    "    return (K -(N1 @ K) - (K @ N1) + (N1 @ K @ N1))\n",
    "    \n",
    "center_K(K_train)"
   ]
  },
  {
   "cell_type": "code",
   "execution_count": 4,
   "id": "dcf8fa6a",
   "metadata": {},
   "outputs": [
    {
     "name": "stdout",
     "output_type": "stream",
     "text": [
      "2\n"
     ]
    },
    {
     "data": {
      "image/png": "[encoded data removed]",
      "text/plain": [
       "<Figure size 432x288 with 1 Axes>"
      ]
     },
     "metadata": {
      "needs_background": "light"
     },
     "output_type": "display_data"
    }
   ],
   "source": [
    "def display_KPCA_3D(data):\n",
    "    data = np.transpose(data)\n",
    "    print(len(data))\n",
    "\n",
    "    fig = plt.figure()\n",
    "\n",
    "    ax = fig.add_subplot(111, projection='3d')\n",
    "\n",
    "    ax.scatter(data[0],data[1],data[2], c=y)\n",
    "\n",
    "    plt.show()\n",
    "    return\n",
    "\n",
    "def display_KPCA_2D(data):\n",
    "    data = np.transpose(data)\n",
    "    print(len(data))\n",
    "\n",
    "    fig = plt.figure()\n",
    "\n",
    "    ax = fig.add_subplot(111)\n",
    "\n",
    "    ax.scatter(data[0],data[1], c=y)\n",
    "\n",
    "    plt.show()\n",
    "    return\n",
    "\n",
    "\n",
    "\n",
    "def kernel_PCA(K, dim):\n",
    "    vals, vecs = np.linalg.eig(K)\n",
    "    vecs = np.transpose(vecs)\n",
    "\n",
    "    # sort these based on the eigenvalues\n",
    "    vecs = np.flip(vecs[np.argsort(vals)],0)[:dim]\n",
    "    #vals = np.flip(vals[np.argsort(vals)],0)[:dim]\n",
    "\n",
    "    #print(vecs)\n",
    "    \"\"\"for i in range(dim):\n",
    "        vecs[i] = (vecs[i] / np.sqrt(vals[i]))\"\"\"\n",
    "\n",
    "    feature_space = []\n",
    "    for i in range(len(K)):\n",
    "        new_coord = []\n",
    "        for coord in range(dim):\n",
    "            new_coord.append(K[:,i]@vecs[coord])\n",
    "            \n",
    "        feature_space.append(new_coord)\n",
    "\n",
    "    return np.real(feature_space)\n",
    "\n",
    "\n",
    "\n",
    "result_KPCA = kernel_PCA(center_K(K_train), 2)\n",
    "display_KPCA_2D(result_KPCA)\n",
    "\n",
    "    "
   ]
  },
  {
   "cell_type": "code",
   "execution_count": 5,
   "id": "5801fe8d",
   "metadata": {},
   "outputs": [
    {
     "data": {
      "text/plain": [
       "array([[ 0.        , 18.70828693, 18.92088793, ..., 18.89444363,\n",
       "        20.49390153, 18.02775638],\n",
       "       [18.70828693,  0.        , 15.3622915 , ..., 15.45962483,\n",
       "        24.53568829, 17.23368794],\n",
       "       [18.92088793, 15.3622915 ,  0.        , ..., 15.26433752,\n",
       "        24.69817807, 16.94107435],\n",
       "       ...,\n",
       "       [18.89444363, 15.45962483, 15.26433752, ...,  0.        ,\n",
       "        25.        , 16.30950643],\n",
       "       [20.49390153, 24.53568829, 24.69817807, ..., 25.        ,\n",
       "         0.        , 23.08679276],\n",
       "       [18.02775638, 17.23368794, 16.94107435, ..., 16.30950643,\n",
       "        23.08679276,  0.        ]])"
      ]
     },
     "execution_count": 5,
     "metadata": {},
     "output_type": "execute_result"
    }
   ],
   "source": [
    "def pairwise_dist(K):    \n",
    "    dist=np.empty((len(K),len(K)))\n",
    "    for i in range(len(K)):\n",
    "        for j in range(len(K)):\n",
    "            \n",
    "            dist[i][j] = np.sqrt((K[i][i] + K[j][j] -2*K[i][j]))\n",
    "\n",
    "    return dist\n",
    "\n",
    "\n",
    "pairwise_dist(K_train)"
   ]
  },
  {
   "cell_type": "code",
   "execution_count": 6,
   "id": "22667775",
   "metadata": {},
   "outputs": [
    {
     "name": "stderr",
     "output_type": "stream",
     "text": [
      "c:\\Users\\Pierre\\AppData\\Local\\Programs\\Python\\Python39\\lib\\site-packages\\sklearn\\manifold\\_t_sne.py:691: FutureWarning: 'square_distances' has been introduced in 0.24 to help phase out legacy squaring behavior. The 'legacy' setting will be removed in 1.1 (renaming of 0.26), and the default setting will be changed to True. In 1.3, 'square_distances' will be removed altogether, and distances will be squared by default. Set 'square_distances'=True to silence this warning.\n",
      "  warnings.warn(\n"
     ]
    },
    {
     "name": "stdout",
     "output_type": "stream",
     "text": [
      "3\n"
     ]
    },
    {
     "data": {
      "image/png": "[encoded data removed]",
      "text/plain": [
       "<Figure size 432x288 with 1 Axes>"
      ]
     },
     "metadata": {
      "needs_background": "light"
     },
     "output_type": "display_data"
    }
   ],
   "source": [
    "from sklearn.preprocessing import normalize\n",
    "from sklearn import manifold\n",
    "from matplotlib import pyplot as plt\n",
    "from matplotlib.lines import Line2D\n",
    "\n",
    "def tsne():\n",
    "\n",
    "    model = TSNE(n_components=2, random_state=0, metric='precomputed')\n",
    "    coords = model.fit_transform(pairwise_dist(K_train))\n",
    "    #print(coords)\n",
    "    display_KPCA_2D(coords)\n",
    "tsne()"
   ]
  },
  {
   "cell_type": "code",
   "execution_count": 7,
   "id": "5baefb01",
   "metadata": {},
   "outputs": [
    {
     "data": {
      "text/plain": [
       "0.6648936170212766"
      ]
     },
     "execution_count": 7,
     "metadata": {},
     "output_type": "execute_result"
    }
   ],
   "source": [
    "from collections import Counter\n",
    "\n",
    "def constant_model_accuracy():\n",
    "    test_list = Counter(y)\n",
    "\n",
    "    res = test_list.most_common(1)\n",
    "    return res[0][1] / len(y)\n",
    "\n",
    "constant_model_accuracy()"
   ]
  },
  {
   "cell_type": "code",
   "execution_count": null,
   "id": "d50a3aed",
   "metadata": {},
   "outputs": [],
   "source": []
  }
 ],
 "metadata": {
  "kernelspec": {
   "display_name": "Python 3.9.0 64-bit",
   "language": "python",
   "name": "python3"
  },
  "language_info": {
   "codemirror_mode": {
    "name": "ipython",
    "version": 3
   },
   "file_extension": ".py",
   "mimetype": "text/x-python",
   "name": "python",
   "nbconvert_exporter": "python",
   "pygments_lexer": "ipython3",
   "version": "3.9.0"
  },
  "vscode": {
   "interpreter": {
    "hash": "d4f2838866252358e8356908bfe578159dba55fbe903e0d25dacf462f792c2ff"
   }
  }
 },
 "nbformat": 4,
 "nbformat_minor": 5
}
