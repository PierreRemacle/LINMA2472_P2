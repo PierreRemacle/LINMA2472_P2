{
 "cells": [
  {
   "cell_type": "markdown",
   "metadata": {},
   "source": [
    "<h1><center>LINMA2472 : Project 2 - part 2, Random Fourier Features </center></h1>\n",
    "\n",
    "$\\textbf{Author}$: Remi Delogne, remi.delogne@uclouvain.be"
   ]
  },
  {
   "cell_type": "markdown",
   "metadata": {},
   "source": [
    "Import the following packages and functions. Refer to their documentation on the internet for more information on installation and usage.\n"
   ]
  },
  {
   "cell_type": "code",
   "execution_count": 3,
   "metadata": {},
   "outputs": [
    {
     "data": {
      "text/html": [
       "<style>.container { width:80% !important; }</style>"
      ],
      "text/plain": [
       "<IPython.core.display.HTML object>"
      ]
     },
     "metadata": {},
     "output_type": "display_data"
    }
   ],
   "source": [
    "import numpy as np\n",
    "from sklearn import preprocessing\n",
    "from sklearn.model_selection import train_test_split\n",
    "from sklearn import datasets, svm\n",
    "from sklearn.svm import LinearSVC\n",
    "from sklearn import metrics\n",
    "from sklearn.metrics import accuracy_score\n",
    "\n",
    "from keras.datasets import mnist #Contains the dataset\n",
    "from matplotlib import pyplot\n",
    "\n",
    "import time #Used to find the execution time of a part of the code\n",
    "\n",
    "from IPython.display import display, HTML #For visual comfort\n",
    "display(HTML(\"<style>.container { width:80% !important; }</style>\"))"
   ]
  },
  {
   "cell_type": "code",
   "execution_count": 4,
   "metadata": {},
   "outputs": [
    {
     "name": "stdout",
     "output_type": "stream",
     "text": [
      "Downloading data from https://storage.googleapis.com/tensorflow/tf-keras-datasets/mnist.npz\n",
      "11490434/11490434 [==============================] - 2s 0us/step\n"
     ]
    },
    {
     "data": {
      "image/png": "[encoded data removed]",
      "text/plain": [
       "<Figure size 432x288 with 9 Axes>"
      ]
     },
     "metadata": {
      "needs_background": "light"
     },
     "output_type": "display_data"
    },
    {
     "name": "stdout",
     "output_type": "stream",
     "text": [
      "(10000, 784)\n"
     ]
    }
   ],
   "source": [
    "# load dataset and rescale the data to [0,15]\n",
    "''' load dataset: (we use the larger subset for testing and the smaller \n",
    "for training to demonstrate the efficiency of evaluating of new instances with RFF)'''\n",
    "(testX,testy),(trainX,trainy) = mnist.load_data()\n",
    "#Rescaling\n",
    "trainX = np.floor(trainX/16)\n",
    "testX = np.floor(testX/16)\n",
    "\n",
    "#Plot some images, for fun\n",
    "for i in range(9):\n",
    "    pyplot.subplot(330+1+i)\n",
    "    pyplot.imshow(trainX[i], cmap=pyplot.get_cmap('gray'))\n",
    "pyplot.show()\n",
    "\n",
    "#Put the data in vector form\n",
    "trainX=trainX.reshape((10000,-1))\n",
    "testX=testX.reshape((60000,-1))\n",
    "print(trainX.shape)"
   ]
  },
  {
   "cell_type": "markdown",
   "metadata": {},
   "source": [
    "### Use the *time* package functions to time the executions of parts of your code:"
   ]
  },
  {
   "cell_type": "code",
   "execution_count": 5,
   "metadata": {},
   "outputs": [
    {
     "name": "stdout",
     "output_type": "stream",
     "text": [
      "Total time: 0.167 seconds\n"
     ]
    }
   ],
   "source": [
    "#Example of timing a piece of code\n",
    "tik=time.perf_counter() # Start\n",
    "for i in range (1000000):\n",
    "    i=i+1\n",
    "tok=time.perf_counter() # Finish\n",
    "print(f'Total time: {tok-tik:.3f} seconds')#prints the result to 3 decimal places"
   ]
  },
  {
   "cell_type": "markdown",
   "metadata": {},
   "source": [
    "### Train a linear SVM on the training data and evaluate it on the testing data\n",
    "Use the tik-tok method to see how long the classifier takes to evaluate the 60.000 testing instances.\n",
    "\n",
    "Use the accuracy metric to judge the quality of your classifier."
   ]
  },
  {
   "cell_type": "code",
   "execution_count": 6,
   "metadata": {},
   "outputs": [
    {
     "name": "stdout",
     "output_type": "stream",
     "text": [
      "Training finished in 10.931 seconds,\n",
      "Testing Finished in 84.016 seconds with accuracy of 0.907.\n"
     ]
    }
   ],
   "source": [
    "#Define the classifier\n",
    "clfLin=svm.SVC(kernel=\"linear\")\n",
    "\n",
    "#Train the classifier\n",
    "tik = time.perf_counter() # Start measuring training time\n",
    "clfLin.fit(trainX,trainy)\n",
    "tok = time.perf_counter() # Stop measuring training time\n",
    "linear_training_time = tok - tik\n",
    "\n",
    "#Evaluate its accuracy\n",
    "tik = time.perf_counter()\n",
    "predicted=clfLin.predict(testX)\n",
    "score_linear=accuracy_score(testy,predicted)\n",
    "tok = time.perf_counter()\n",
    "linear_testing_time = tok - tik\n",
    "\n",
    "print(f\"Training finished in {linear_training_time:.3f} seconds,\")\n",
    "print(f\"Testing Finished in {linear_testing_time:.3f} seconds with accuracy of {score_linear:.3f}.\")"
   ]
  },
  {
   "cell_type": "markdown",
   "metadata": {},
   "source": [
    "### Train a Kernel SVM with the Gaussian Kernel on the training data and evaluate it on the testing data\n",
    "Use the tik-tok method to see how long the classifier takes to evaluate the $60000$ testing instances.\n",
    "\n",
    "Use the accuracy metric to judge the quality of your classifier.\n",
    "\n",
    "You may stick to the default parameters of sci-kit learn."
   ]
  },
  {
   "cell_type": "code",
   "execution_count": 7,
   "metadata": {},
   "outputs": [
    {
     "name": "stdout",
     "output_type": "stream",
     "text": [
      "Training finished in 16.904 seconds,\n",
      "Testing Finished in 225.426 seconds with accuracy of 0.956.\n"
     ]
    }
   ],
   "source": [
    "#Define the classifier\n",
    "clfKernel=svm.SVC(kernel='rbf')\n",
    "\n",
    "#Use it\n",
    "tik = time.perf_counter()\n",
    "clfKernel.fit(trainX, trainy)\n",
    "tok = time.perf_counter()\n",
    "rbf_training_time = tok - tik\n",
    "\n",
    "tik = time.perf_counter()\n",
    "predicted=clfKernel.predict(testX)\n",
    "score_rbf=accuracy_score(testy,predicted)\n",
    "tok = time.perf_counter()\n",
    "rbf_testing_time = tok - tik\n",
    "\n",
    "print(f\"Training finished in {rbf_training_time:.3f} seconds,\")\n",
    "print(f\"Testing Finished in {rbf_testing_time:.3f} seconds with accuracy of {score_rbf:.3f}.\")"
   ]
  },
  {
   "cell_type": "markdown",
   "metadata": {},
   "source": [
    "### *TO DO*: Use the following functions to implement Random Fourier Features\n",
    "\n",
    "You are here going to try to approximate the Gaussian kernel used in the second classfier.\n",
    "\n",
    "Use the first function to generate your $\\boldsymbol\\omega_i$ (using an appropriate distribution) and your $b_i$ (using appropriate distributions), this should return $D$ vectors $\\boldsymbol\\omega_i\\in\\mathbb R^d$ (in the form of a matrix for example) and $D$ values $b_i\\in[0,2\\pi]$. \n",
    "\n",
    "Use the second function to create the mapping $\\boldsymbol z(\\boldsymbol x)$ as described in the slides."
   ]
  },
  {
   "cell_type": "code",
   "execution_count": 8,
   "metadata": {},
   "outputs": [
    {
     "name": "stdout",
     "output_type": "stream",
     "text": [
      "(60000, 784)\n",
      "(10000, 784)\n"
     ]
    }
   ],
   "source": [
    "def generate_freq(N,D,sigma):\n",
    "    W= np.random.normal(loc=0, scale=1/sigma, size=(N, D))\n",
    "    b= np.random.uniform(0, 2*np.pi, size=D)\n",
    "    return W,b\n",
    "\n",
    "def transform(x,w,b,D):\n",
    "    Z= np.zeros(D)\n",
    "    for i in range(D):\n",
    "        a = w.T[i] @ x + b[i]\n",
    "        Z[i] = np.sqrt(2/D)* (np.cos(a))\n",
    "    return Z\n",
    "\n",
    "print(testX.shape)\n",
    "print(trainX.shape)"
   ]
  },
  {
   "cell_type": "markdown",
   "metadata": {},
   "source": [
    "### *TO DO*: Transform your trainX and testX\n",
    "\n",
    "Use the function you defined to transform your data.\n",
    "\n",
    "Make sure you only generate $\\boldsymbol W$ and $\\boldsymbol b$ once.\n",
    "\n",
    "Use a standard deviation of $\\frac{1}{100}$ et $D=300$ random features to start with. Watch out, in the original version of the homework it was specified that the variance was $\\frac{1}{100}$ but it must be the standard deviation instead.\n",
    "\n",
    "You may also use the tik-tok method to time the procedure of creating Random features."
   ]
  },
  {
   "cell_type": "code",
   "execution_count": 9,
   "metadata": {},
   "outputs": [
    {
     "name": "stdout",
     "output_type": "stream",
     "text": [
      "Total time to calculate trainX_rff: 20s\n",
      "Total time to calculate testX_rff: 122s\n",
      "RFF transformation time : 122.259 seconds.\n"
     ]
    }
   ],
   "source": [
    "D=300 #Number of sample vectors w_i\n",
    "sigma=100 #Variance of distributon\n",
    "d=28*28 #Original number of dimensions\n",
    "N = trainX.shape[1]\n",
    "\n",
    "tik = time.perf_counter()\n",
    "W,b=generate_freq(N,D,sigma)\n",
    "\n",
    "trainX_rff=[]\n",
    "testX_rff=[]\n",
    "\n",
    "#trainX_rff=transform(trainX,W,b,D)\n",
    "\n",
    "tik=time.perf_counter() # Start\n",
    "for x_train in trainX:\n",
    "    trainX_rff.append(transform(x_train,W,b,D))\n",
    "    tok=time.perf_counter() # Finish\n",
    "print('Total time to calculate trainX_rff: %ss' % (int(tok-tik)))\n",
    "\n",
    "#testX_rff=transform(testX,W,b,D)\n",
    "tik=time.perf_counter() # Start\n",
    "for x_test in testX:\n",
    "    testX_rff.append(transform(x_test,W,b,D))\n",
    "    tok=time.perf_counter() # Finish\n",
    "print('Total time to calculate testX_rff: %ss' % (int(tok-tik)))\n",
    "tok = time.perf_counter()\n",
    "\n",
    "rff_time = tok - tik\n",
    "\n",
    "print(f\"RFF transformation time : {rff_time:.3f} seconds.\")"
   ]
  },
  {
   "cell_type": "code",
   "execution_count": 10,
   "metadata": {},
   "outputs": [
    {
     "name": "stdout",
     "output_type": "stream",
     "text": [
      "Dimension of trainX after transformation : (10000, 300).\n",
      "Dimension of testX after transformation : (60000, 300).\n"
     ]
    }
   ],
   "source": [
    "#Sanity check, do the dimensions of your transformations match your expectation?\n",
    "#Bear in mind that there are more instances in the test set than in the trianing set here\n",
    "print(f\"Dimension of trainX after transformation : {np.array(trainX_rff).shape}.\")\n",
    "print(f\"Dimension of testX after transformation : {np.array(testX_rff).shape}.\")"
   ]
  },
  {
   "cell_type": "markdown",
   "metadata": {},
   "source": [
    "### Use another linear SVM to classify the transformed data\n",
    "Now that the instances have been transformed, theory tells us that they are much more ameneable to linear classification than before."
   ]
  },
  {
   "cell_type": "code",
   "execution_count": 11,
   "metadata": {
    "tags": []
   },
   "outputs": [
    {
     "name": "stdout",
     "output_type": "stream",
     "text": [
      "Training Finished in 7.388 seconds\n",
      "Testing Finished in 49.274 seconds with accuracy of 0.888\n"
     ]
    }
   ],
   "source": [
    "#Define the classifier\n",
    "clfRff = svm.SVC(kernel=\"linear\",C=np.inf)\n",
    "\n",
    "#Use it\n",
    "\n",
    "tik = time.perf_counter()\n",
    "clfRff.fit(trainX_rff, trainy)\n",
    "tok = time.perf_counter() \n",
    "training_time_rff = tok - tik\n",
    "print(f\"Training Finished in {training_time_rff:.3f} seconds\")\n",
    "\n",
    "tik = time.perf_counter()\n",
    "predicted = clfRff.predict(testX_rff)\n",
    "score_rff = accuracy_score(testy,predicted)\n",
    "tok = time.perf_counter()\n",
    "testing_time_rff = tok - tik\n",
    "print(f\"Testing Finished in {testing_time_rff:.3f} seconds with accuracy of {score_rff:.3f}\")"
   ]
  },
  {
   "cell_type": "markdown",
   "metadata": {},
   "source": [
    "### Additional workspace "
   ]
  },
  {
   "cell_type": "markdown",
   "metadata": {
    "tags": []
   },
   "source": [
    "Investigate the relationship between $D$ and the accuracy of the classifier."
   ]
  },
  {
   "cell_type": "code",
   "execution_count": 12,
   "metadata": {},
   "outputs": [
    {
     "name": "stdout",
     "output_type": "stream",
     "text": [
      "1° interaction\n",
      "D =  5\n",
      "Total time to create RFF: 2s\n",
      "Total time to train with RFF: 4s\n",
      "Total time to predict with RFF: 24s\n",
      "Accuracy: 27.06 %\n",
      "\n",
      "2° interaction\n",
      "D =  10\n",
      "Total time to create RFF: 4s\n",
      "Total time to train with RFF: 3s\n",
      "Total time to predict with RFF: 20s\n",
      "Accuracy: 39.87 %\n",
      "\n",
      "3° interaction\n",
      "D =  20\n",
      "Total time to create RFF: 9s\n",
      "Total time to train with RFF: 3s\n",
      "Total time to predict with RFF: 21s\n",
      "Accuracy: 56.16 %\n",
      "\n",
      "4° interaction\n",
      "D =  40\n",
      "Total time to create RFF: 19s\n",
      "Total time to train with RFF: 3s\n",
      "Total time to predict with RFF: 25s\n",
      "Accuracy: 66.23 %\n",
      "\n",
      "5° interaction\n",
      "D =  80\n",
      "Total time to create RFF: 38s\n",
      "Total time to train with RFF: 3s\n",
      "Total time to predict with RFF: 22s\n",
      "Accuracy: 82.54 %\n",
      "\n",
      "6° interaction\n",
      "D =  160\n",
      "Total time to create RFF: 89s\n",
      "Total time to train with RFF: 5s\n",
      "Total time to predict with RFF: 35s\n",
      "Accuracy: 88.24 %\n",
      "\n",
      "7° interaction\n",
      "D =  320\n",
      "Total time to create RFF: 175s\n",
      "Total time to train with RFF: 9s\n",
      "Total time to predict with RFF: 61s\n",
      "Accuracy: 91.76 %\n",
      "\n",
      "8° interaction\n",
      "D =  640\n",
      "Total time to create RFF: 394s\n",
      "Total time to train with RFF: 12s\n",
      "Total time to predict with RFF: 100s\n",
      "Accuracy: 93.54 %\n",
      "\n",
      "9° interaction\n",
      "D =  1000\n",
      "Total time to create RFF: 602s\n",
      "Total time to train with RFF: 18s\n",
      "Total time to predict with RFF: 151s\n",
      "Accuracy: 94.25 %\n",
      "\n"
     ]
    }
   ],
   "source": [
    "#Define a vector to store the accuracy values you will get\n",
    "\n",
    "def compute_rff(X,D,W,b):\n",
    "    N = np.array(X).shape[1]\n",
    "    X_rff = []\n",
    "    for x in X:\n",
    "        X_rff.append(transform(x,W,b,D))\n",
    "    return X_rff\n",
    "\n",
    "accuracy=[]\n",
    "time_create = []\n",
    "time_train = []\n",
    "time_pred = []\n",
    "\n",
    "#Define for which values of D you want to test the RFF\n",
    "\n",
    "D_list=[5,10,20,40,80,160,320,640,1000]\n",
    "\n",
    "clf = svm.SVC(kernel=\"linear\")\n",
    "for i in range(len(D_list)):\n",
    "    D = D_list[i]\n",
    "    print('%s° interaction' % (i+1))\n",
    "    print('D = ',D)\n",
    "    tik=time.perf_counter() # Start\n",
    "    N = trainX.shape[1]\n",
    "    W,b = generate_freq(N,D,sigma=100)\n",
    "    trainX_rff= compute_rff(trainX,D,W,b)\n",
    "    testX_rff= compute_rff(testX,D,W,b)\n",
    "    tok=time.perf_counter() # Finish\n",
    "    print('Total time to create RFF: %ss' % (int(tok-tik)))\n",
    "    time_create.append(tok-tik)\n",
    "    #Train and evaluate a linear classifier\n",
    "    tik=time.perf_counter() # Start\n",
    "    clf.fit(trainX_rff, trainy)\n",
    "    tok=time.perf_counter() # Finish\n",
    "    print('Total time to train with RFF: %ss' % (int(tok-tik)))\n",
    "    time_train.append(tok-tik)\n",
    "    tik=time.perf_counter() # Start\n",
    "    predicted = clf.predict(testX_rff)\n",
    "    tok=time.perf_counter() # Finish\n",
    "    print('Total time to predict with RFF: %ss' % (int(tok-tik)))\n",
    "    time_pred.append(tok-tik)\n",
    "    acc= accuracy_score(testy,predicted)\n",
    "    accuracy.append(acc)\n",
    "    print('Accuracy: %s' % (round(acc*100,2)),'%')\n",
    "    print('')"
   ]
  },
  {
   "cell_type": "markdown",
   "metadata": {},
   "source": [
    "### Don't forget to add plots and other nice things"
   ]
  },
  {
   "cell_type": "code",
   "execution_count": 13,
   "metadata": {},
   "outputs": [],
   "source": [
    "import matplotlib.pyplot as plt"
   ]
  },
  {
   "cell_type": "code",
   "execution_count": 14,
   "metadata": {},
   "outputs": [
    {
     "data": {
      "image/png": "[encoded data removed]",
      "text/plain": [
       "<Figure size 432x288 with 1 Axes>"
      ]
     },
     "metadata": {
      "needs_background": "light"
     },
     "output_type": "display_data"
    }
   ],
   "source": [
    "plt.plot(D_list, accuracy, '-ok')\n",
    "plt.xscale(\"log\")\n",
    "plt.xlabel(\"D [log scale]\")\n",
    "plt.ylabel(\"Accuracy\")\n",
    "plt.title('Accuracy related with D')\n",
    "plt.grid()\n",
    "plt.show()"
   ]
  },
  {
   "cell_type": "code",
   "execution_count": 15,
   "metadata": {},
   "outputs": [
    {
     "data": {
      "image/png": "[encoded data removed]",
      "text/plain": [
       "<Figure size 432x288 with 1 Axes>"
      ]
     },
     "metadata": {
      "needs_background": "light"
     },
     "output_type": "display_data"
    }
   ],
   "source": [
    "plt.plot(D_list,time_create, '-ok')\n",
    "plt.xscale(\"log\")\n",
    "plt.xlabel(\"D [log scale]\")\n",
    "plt.ylabel(\"Seconds\")\n",
    "plt.title('Time to create the RFF')\n",
    "plt.grid()\n",
    "plt.show()"
   ]
  },
  {
   "cell_type": "code",
   "execution_count": 16,
   "metadata": {},
   "outputs": [
    {
     "data": {
      "image/png": "[encoded data removed]",
      "text/plain": [
       "<Figure size 432x288 with 1 Axes>"
      ]
     },
     "metadata": {
      "needs_background": "light"
     },
     "output_type": "display_data"
    }
   ],
   "source": [
    "plt.plot(D_list,time_train, '-ok')\n",
    "plt.xscale(\"log\")\n",
    "plt.xlabel(\"D [log scale]\")\n",
    "plt.ylabel(\"Seconds\")\n",
    "plt.title('Time to train the SVM')\n",
    "plt.grid()\n",
    "plt.show()"
   ]
  },
  {
   "cell_type": "code",
   "execution_count": 17,
   "metadata": {},
   "outputs": [
    {
     "data": {
      "image/png": "[encoded data removed]",
      "text/plain": [
       "<Figure size 432x288 with 1 Axes>"
      ]
     },
     "metadata": {
      "needs_background": "light"
     },
     "output_type": "display_data"
    }
   ],
   "source": [
    "plt.plot(D_list,time_pred, '-ok')\n",
    "plt.xscale(\"log\")\n",
    "plt.xlabel(\"D [log scale]\")\n",
    "plt.ylabel(\"Seconds\")\n",
    "plt.title('Time to predict')\n",
    "plt.grid()\n",
    "plt.show()"
   ]
  },
  {
   "cell_type": "code",
   "execution_count": null,
   "metadata": {},
   "outputs": [],
   "source": []
  },
  {
   "cell_type": "code",
   "execution_count": null,
   "metadata": {},
   "outputs": [],
   "source": []
  },
  {
   "cell_type": "code",
   "execution_count": null,
   "metadata": {},
   "outputs": [],
   "source": []
  },
  {
   "cell_type": "code",
   "execution_count": null,
   "metadata": {},
   "outputs": [],
   "source": []
  },
  {
   "cell_type": "code",
   "execution_count": null,
   "metadata": {},
   "outputs": [],
   "source": []
  },
  {
   "cell_type": "code",
   "execution_count": null,
   "metadata": {},
   "outputs": [],
   "source": []
  },
  {
   "cell_type": "code",
   "execution_count": null,
   "metadata": {},
   "outputs": [],
   "source": []
  },
  {
   "cell_type": "code",
   "execution_count": null,
   "metadata": {},
   "outputs": [],
   "source": []
  },
  {
   "cell_type": "markdown",
   "metadata": {},
   "source": [
    "### Good luck =D"
   ]
  },
  {
   "cell_type": "code",
   "execution_count": null,
   "metadata": {},
   "outputs": [],
   "source": []
  },
  {
   "cell_type": "code",
   "execution_count": null,
   "metadata": {},
   "outputs": [],
   "source": []
  },
  {
   "cell_type": "code",
   "execution_count": null,
   "metadata": {},
   "outputs": [],
   "source": []
  }
 ],
 "metadata": {
  "kernelspec": {
   "display_name": "Python 3.9.0 64-bit",
   "language": "python",
   "name": "python3"
  },
  "language_info": {
   "codemirror_mode": {
    "name": "ipython",
    "version": 3
   },
   "file_extension": ".py",
   "mimetype": "text/x-python",
   "name": "python",
   "nbconvert_exporter": "python",
   "pygments_lexer": "ipython3",
   "version": "3.9.0"
  },
  "vscode": {
   "interpreter": {
    "hash": "d4f2838866252358e8356908bfe578159dba55fbe903e0d25dacf462f792c2ff"
   }
  }
 },
 "nbformat": 4,
 "nbformat_minor": 4
}
